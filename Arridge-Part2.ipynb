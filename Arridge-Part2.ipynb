{
 "cells": [
  {
   "cell_type": "markdown",
   "metadata": {},
   "source": [
    "# Part 2: Resolution"
   ]
  },
  {
   "cell_type": "code",
   "execution_count": 4,
   "metadata": {
    "collapsed": true
   },
   "outputs": [],
   "source": [
    "# IPython magics\n",
    "%matplotlib inline"
   ]
  },
  {
   "cell_type": "code",
   "execution_count": 5,
   "metadata": {
    "collapsed": true
   },
   "outputs": [],
   "source": [
    "# Import packages\n",
    "import matplotlib\n",
    "#matplotlib.rc('text', usetex=True)\n",
    "import matplotlib.pyplot as plt\n",
    "import matplotlib.image\n",
    "import seaborn as sb\n",
    "import numpy as np\n",
    "import scipy.stats as stats\n",
    "import scipy.constants as consts\n",
    "import scipy.ndimage"
   ]
  },
  {
   "cell_type": "markdown",
   "metadata": {},
   "source": [
    "\n",
    "\n",
    "## Maxwell-Boltzmann distribution\n",
    "Measurement of 1D particle energy distributions. The canonical Maxwell-Boltzmann distribution\n",
    "is given by:\n",
    "\n",
    "\\\\( f(v) = n \\left(\\frac{m}{2\\pi k_BT}\\right)^{3/2} \\exp \\left(-\\frac{mv^2}{2k_BT}\\right) \\\\)\n",
    "\n",
    "where m is the mass of the species, n is the (number) density, k<sub>B</sub>T is the temperature, and v is the speed at which we are looking for the distribution function. Here we will use a \"drifting Maxwellian\" which is a Maxwell-Boltzmann distribution that is moving at a relative velocity to the frame of the distribution.\n",
    "\n",
    "\\\\( f(\\mathbf{v}) = n \\left(\\frac{m}{2\\pi k_BT}\\right)^{3/2} \\exp \\left(-\\frac{m(\\mathbf{v_0}-\\mathbf{v})^2}{2k_BT}\\right) \\\\)\n",
    "\n",
    "We also need to convert the distribution function to units of differential number flux, also known as DNF [m<sup>-2</sup> s<sup>-1</sup> sr<sup>-1</sup> J<sup>-1</sup>], and differential energy flux, also known as DEF [J m<sup>-2</sup> s<sup>-1</sup> sr<sup>-1</sup> J<sup>-1</sup>]. Note that the \"J/J\" part of the DEF units is retained to indicate DEF and to avoid ambiguity.\n",
    "\n",
    "\\\\( J_N = f\\frac{v^2}{m} \\\\)  \n",
    "\\\\( J_E = f\\frac{v^4}{2m} \\\\)\n",
    "\n",
    "In our code we will implement the drifting Maxwellian and conversions as a Python lambda functions."
   ]
  },
  {
   "cell_type": "code",
   "execution_count": 6,
   "metadata": {
    "collapsed": true
   },
   "outputs": [],
   "source": [
    "# Distribution function for a drifting isotropic Maxwell-Boltzmann distribution with density n [m^-3], temperature kT [eV],\n",
    "# velocity v0 [km/s], direction of flow (th0,ph0) [deg], for a species of mass m [u], charge state q [dimensionless integer],\n",
    "# at energies per charge EperQ [eV/q], look direction (th,ph) [deg]. Returns the value of the distribution function\n",
    "# in units of s^3/m^6 at the velocity (vx,vy,vz) [m/s] - note the different units for velocity.\n",
    "def dist_mb(m, q, n, v0, th0, ph0, kT, EperQ, th, ph):\n",
    "    v0x = v0*1e3*np.cos(ph0*np.pi/180.0)*np.sin(th0*np.pi/180.0)\n",
    "    v0y = v0*1e3*np.sin(ph0*np.pi/180.0)*np.sin(th0*np.pi/180.0)\n",
    "    v0z = v0*1e3*np.cos(th0*np.pi/180.0)\n",
    "    v = np.sqrt(2.0*q*EperQ*consts.e/(m*consts.u))\n",
    "    vx = v*np.cos(ph*np.pi/180.0)*np.sin(th*np.pi/180.0)\n",
    "    vy = v*np.sin(ph*np.pi/180.0)*np.sin(th*np.pi/180.0)\n",
    "    vz = v*np.cos(th*np.pi/180.0)\n",
    "    x = 0.5*m*consts.u*v0*v0*1e6 + EperQ*consts.e*q - m*consts.u*(v0x*vx + v0y*vy + v0z*vz)\n",
    "#x = 0.5*m*consts.u*((v0x-vx)**2 + (v0y-vy)**2 + (v0z-vz)**2)\n",
    "    return n*((m*consts.u/(2*np.pi*kT*consts.e))**(1.5))*np.exp(-x/(kT*consts.e))\n",
    "\n",
    "# Functions to convert from distribution function to flux units (both differential energy flux and differential number flux)\n",
    "# f in units of s^3 m^-6, EperQ in units of eV/q, m in units of u, and q is an integer\n",
    "todnf = lambda f, EperQ, m, q: f*EperQ*consts.e*2*(q/(m*consts.u))**2\n",
    "todef = lambda f, EperQ, m, q: f*((EperQ*consts.e)**2)*q*2*(q/(m*consts.u))**2"
   ]
  },
  {
   "cell_type": "markdown",
   "metadata": {},
   "source": [
    "Generate a solar wind spectrum with H+ and He++ moving at 450 km/s with a temperature of 10 eV."
   ]
  },
  {
   "cell_type": "code",
   "execution_count": 7,
   "metadata": {},
   "outputs": [
    {
     "data": {
      "text/plain": [
       "Text(0,0.5,'Differential energy flux [J m$^{-2}$ s$^{-1}$ sr$^{-1}$ J$^{-1}$]')"
      ]
     },
     "execution_count": 7,
     "metadata": {},
     "output_type": "execute_result"
    },
    {
     "data": {
      "image/png": "[encoded data removed]",
      "text/plain": [
       "<matplotlib.figure.Figure at 0x28cc4599fd0>"
      ]
     },
     "metadata": {},
     "output_type": "display_data"
    }
   ],
   "source": [
    "E = np.logspace(0,4.2,64) # in eV/q\n",
    "f_h = dist_mb(1.007825032241, 1.0, 1e6*(1-0.04), 450.0,0.0,0.0, 10.0, E, 0.0, 0.0)\n",
    "f_he = dist_mb(4.00260325415, 2.0, 1e6*0.04, 450.0,0.0,0.0, 10.0, E, 0.0, 0.0)\n",
    "plt.loglog(E, todef(f_h,E,1.007825032241,1.0),'or')\n",
    "plt.loglog(E, todef(f_h,E,1.007825032241,1.0),'-r')\n",
    "plt.loglog(E,todef(f_he,E,4.00260325415,2.0),'ob')\n",
    "plt.loglog(E,todef(f_he,E,4.00260325415,2.0),'-b')\n",
    "plt.loglog(E, todef(f_h,E,1.007825032241,1.0)+todef(f_he,E,4.00260325415,2.0),'ok')\n",
    "plt.loglog(E, todef(f_h,E,1.007825032241,1.0)+todef(f_he,E,4.00260325415,2.0),'-k')\n",
    "plt.xlabel('Energy [eV]')\n",
    "plt.ylim([1e5,1e14])\n",
    "plt.ylabel('Differential energy flux [J m$^{-2}$ s$^{-1}$ sr$^{-1}$ J$^{-1}$]')"
   ]
  },
  {
   "cell_type": "markdown",
   "metadata": {},
   "source": [
    "Here the speed of the solar wind, combined with the low temperature produces a very narrow beam in energy. To properly forward-model this we need to account for the finite width of each energy bin."
   ]
  },
  {
   "cell_type": "code",
   "execution_count": 8,
   "metadata": {},
   "outputs": [],
   "source": [
    "# Define some parameters of the energy table and geometric/calibration factor.\n",
    "energy_resolution = 0.18\n",
    "num_energy_bins = 64\n",
    "energy_table_lower = np.zeros(num_energy_bins)\n",
    "energy_table_upper = np.zeros(num_energy_bins)\n",
    "energy_table_lower[0] = 1.0\n",
    "energy_table_upper[0] = 1.0*(1+1*energy_resolution)\n",
    "for i in range(1,num_energy_bins):\n",
    "    energy_table_lower[i] = energy_table_upper[i-1]\n",
    "    energy_table_upper[i] = energy_table_lower[i]*(1+1*energy_resolution)\n",
    "energy_table_centre = (energy_table_upper+energy_table_lower)/2.0\n",
    "\n",
    "G = 5e-10\n",
    "quantumeff = lambda E, scale=10000: np.exp(-(E/10000)**2)"
   ]
  },
  {
   "cell_type": "markdown",
   "metadata": {},
   "source": [
    "Now lets look at the counts across a single energy/charge bin."
   ]
  },
  {
   "cell_type": "code",
   "execution_count": 14,
   "metadata": {},
   "outputs": [
    {
     "name": "stdout",
     "output_type": "stream",
     "text": [
      "3277.02699613\n",
      "3277.02699613\n"
     ]
    },
    {
     "data": {
      "image/png": "[encoded data removed]",
      "text/plain": [
       "<matplotlib.figure.Figure at 0x28cc4e77860>"
      ]
     },
     "metadata": {},
     "output_type": "display_data"
    }
   ],
   "source": [
    "# Bin number, and now many sub-samples to take\n",
    "i = 40\n",
    "n = 20\n",
    "\n",
    "# Instrument response is modelled as a Gaussian.\n",
    "fwhm = energy_table_upper[i]-energy_table_lower[i]\n",
    "sig = fwhm/(2.0*np.sqrt(2.0*np.log(2)))\n",
    "tmp_energies = np.linspace(energy_table_lower[i]*(1-energy_resolution),energy_table_upper[i]*(1+energy_resolution),n)\n",
    "eps = quantumeff(tmp_energies)\n",
    "de_tmp_energies = (np.max(tmp_energies)-np.min(tmp_energies))/n\n",
    "f_h = dist_mb(1.007825032241, 1.0, 1e6*(1-0.04), 450.0,0.0,0.0, 10.0, tmp_energies, 0.0, 0.0)\n",
    "inst_response = np.exp(-0.5*((tmp_energies-energy_table_centre[i])/sig)**2)/(sig*np.sqrt(2*np.pi))\n",
    "\n",
    "print(np.sum(inst_response*todef(f_h,tmp_energies,1.007825032241,1.0)*G*eps*de_tmp_energies))\n",
    "\n",
    "plt.plot(tmp_energies, todef(f_h,tmp_energies,1.007825032241,1.0)*G*eps)\n",
    "plt.xlabel('Energy [eV]')\n",
    "\n",
    "# This function returns the counts in a single bin for an under-resolved population.\n",
    "def underresolve(fun, E_low, E_up, E_c, dEoverE, n=20):\n",
    "    fwhm = E_up-E_low\n",
    "    sig = fwhm/(2.0*np.sqrt(2.0*np.log(2)))\n",
    "    tmp_energies = np.linspace(E_low*(1-dEoverE), E_up*(1+dEoverE), n)\n",
    "    de_tmp_energies = (E_up*(1+dEoverE)-E_low*(1-dEoverE))/n\n",
    "    inst_response = np.exp(-0.5*((tmp_energies-E_c)/sig)**2)/(sig*np.sqrt(2*np.pi))\n",
    "    return np.sum(inst_response*fun(tmp_energies)*de_tmp_energies)\n",
    "\n",
    "# Check.\n",
    "print(underresolve(lambda E: todef(f_h,E,1.007825032241,1.0)*G*eps, energy_table_lower[i], energy_table_upper[i], energy_table_centre[i], energy_resolution))\n"
   ]
  },
  {
   "cell_type": "markdown",
   "metadata": {},
   "source": [
    "## Synthetic under-resolved spectrum\n",
    "Finally, we can fully sample the analytic spectrum, taking into account the sub-optimal resolution."
   ]
  },
  {
   "cell_type": "code",
   "execution_count": 15,
   "metadata": {},
   "outputs": [
    {
     "data": {
      "text/plain": [
       "Text(0,0.5,'Counts/accumulation')"
      ]
     },
     "execution_count": 15,
     "metadata": {},
     "output_type": "execute_result"
    },
    {
     "data": {
      "image/png": "[encoded data removed]",
      "text/plain": [
       "<matplotlib.figure.Figure at 0x28cc4eb65c0>"
      ]
     },
     "metadata": {},
     "output_type": "display_data"
    }
   ],
   "source": [
    "# Instrument parameters.\n",
    "energy_resolution = 0.18\n",
    "num_energy_bins = 64\n",
    "energy_table_lower = np.zeros(num_energy_bins)\n",
    "energy_table_upper = np.zeros(num_energy_bins)\n",
    "energy_table_lower[0] = 1.0\n",
    "energy_table_upper[0] = 1.0*(1+1*energy_resolution)\n",
    "for i in range(1,num_energy_bins):\n",
    "    energy_table_lower[i] = energy_table_upper[i-1]\n",
    "    energy_table_upper[i] = energy_table_lower[i]*(1+1*energy_resolution)\n",
    "energy_table_centre = (energy_table_upper+energy_table_lower)/2.0\n",
    "\n",
    "# Calculate the counts\n",
    "f = np.zeros(num_energy_bins)\n",
    "deffun = lambda E: (todef(dist_mb(1.007825032241, 1.0, 1e5*(1-0.04), 450.0,0.0,0.0, 10.0, E, 0.0, 0.0),E,1.007825032241,1.0) +\n",
    "                        todef(dist_mb(4.00260325415, 2.0, 1e5*0.04, 450.0,0.0,0.0, 10.0, E, 0.0, 0.0),E,4.00260325415,2.0))*G*quantumeff(E)+10.0\n",
    "for i in range(num_energy_bins):\n",
    "    f[i] = underresolve(deffun, energy_table_lower[i], energy_table_upper[i], energy_table_centre[i], energy_resolution)\n",
    "\n",
    "# Generate a high resolution spectrum for comparison\n",
    "E_hi = np.logspace(0,4,400)\n",
    "def_hi = deffun(E_hi)\n",
    "    \n",
    "plt.loglog(energy_table_centre,f,'o')\n",
    "plt.loglog(E_hi,def_hi)\n",
    "plt.ylim([1e-1,1e5])\n",
    "plt.xlabel('Energy/charge [V]')\n",
    "plt.ylabel('Counts/accumulation')"
   ]
  },
  {
   "cell_type": "markdown",
   "metadata": {},
   "source": [
    "## Let's try to fit this - using all the ingredients but using a different fitting method"
   ]
  },
  {
   "cell_type": "code",
   "execution_count": 20,
   "metadata": {},
   "outputs": [
    {
     "name": "stdout",
     "output_type": "stream",
     "text": [
      "Step: n_h=100000.0 n_he=10000.0 v=420.0 kT=10.0\n",
      "Step: n_h=100000.0 n_he=10000.0 v=420.0 kT=10.0\n",
      "Step: n_h=99062.5 n_he=9437.5 v=433.75 kT=10.84375\n",
      "Step: n_h=98906.25 n_he=9343.75 v=439.375 kT=10.234375\n",
      "Step: n_h=94609.375 n_he=9765.625 v=444.0625 kT=10.4765625\n",
      "Step: n_h=94609.375 n_he=9765.625 v=444.0625 kT=10.4765625\n",
      "Step: n_h=97231.4453125 n_he=9276.3671875 v=454.04296875 kT=10.73388671875\n",
      "Step: n_h=97231.4453125 n_he=9276.3671875 v=454.04296875 kT=10.73388671875\n",
      "Step: n_h=98660.35461425781 n_he=9492.111206054688 v=449.07684326171875 kT=10.463371276855469\n",
      "Step: n_h=96377.13432312012 n_he=9574.93782043457 v=450.7905960083008 kT=10.755284309387207\n",
      "Step: n_h=100714.85042572021 n_he=9134.781837463379 v=453.27234268188477 kT=10.826094150543213\n",
      "Step: n_h=98312.73138523102 n_he=9413.47348690033 v=446.27748250961304 kT=10.673715054988861\n",
      "Step: n_h=98312.73138523102 n_he=9413.47348690033 v=446.27748250961304 kT=10.673715054988861\n",
      "Step: n_h=99083.64541828632 n_he=9256.636187434196 v=448.85087698698044 kT=11.233586840331554\n",
      "Step: n_h=99083.64541828632 n_he=9256.636187434196 v=448.85087698698044 kT=11.233586840331554\n",
      "Step: n_h=99083.64541828632 n_he=9256.636187434196 v=448.85087698698044 kT=11.233586840331554\n",
      "Step: n_h=100626.48567953147 n_he=8681.781893363222 v=452.2086934512481 kT=11.506704111932777\n",
      "Step: n_h=105338.51875312394 n_he=8368.6362002627 v=455.4334635997657 kT=12.034707148937741\n",
      "Step: n_h=105061.78240735608 n_he=8091.735422480269 v=452.0202205129317 kT=12.584035808300541\n",
      "Step: n_h=105061.78240735608 n_he=8091.735422480269 v=452.0202205129317 kT=12.584035808300541\n",
      "Step: n_h=105061.78240735608 n_he=8091.735422480269 v=452.0202205129317 kT=12.584035808300541\n",
      "Step: n_h=105061.78240735608 n_he=8091.735422480269 v=452.0202205129317 kT=12.584035808300541\n",
      "Step: n_h=115832.9872530817 n_he=7122.442598770704 v=454.94180732518544 kT=13.19619172117632\n",
      "Step: n_h=115832.9872530817 n_he=7122.442598770704 v=454.94180732518544 kT=13.19619172117632\n",
      "Step: n_h=112454.81671681121 n_he=7289.3565331029895 v=447.89982552267134 kT=12.435745153315992\n",
      "Step: n_h=112454.81671681121 n_he=7289.3565331029895 v=447.89982552267134 kT=12.435745153315992\n",
      "Step: n_h=112454.81671681121 n_he=7289.3565331029895 v=447.89982552267134 kT=12.435745153315992\n",
      "Step: n_h=123545.868321135 n_he=6193.096811196847 v=449.86369542206796 kT=13.563647983808757\n",
      "Step: n_h=123545.868321135 n_he=6193.096811196847 v=449.86369542206796 kT=13.563647983808757\n",
      "Step: n_h=117005.79783467975 n_he=7004.1784456904215 v=451.18024927425427 kT=13.051222360333346\n",
      "Step: n_h=117005.79783467975 n_he=7004.1784456904215 v=451.18024927425427 kT=13.051222360333346\n",
      "Step: n_h=117005.79783467975 n_he=7004.1784456904215 v=451.18024927425427 kT=13.051222360333346\n",
      "Step: n_h=121591.87606792728 n_he=6582.586017295993 v=449.0722405503106 kT=12.613877815256222\n",
      "Step: n_h=121591.87606792728 n_he=6582.586017295993 v=449.0722405503106 kT=12.613877815256222\n",
      "Step: n_h=121591.87606792728 n_he=6582.586017295993 v=449.0722405503106 kT=12.613877815256222\n",
      "Step: n_h=121591.87606792728 n_he=6582.586017295993 v=449.0722405503106 kT=12.613877815256222\n",
      "Step: n_h=121375.74559593768 n_he=6336.83626563005 v=448.8965791519695 kT=12.771733445829254\n",
      "Step: n_h=121375.74559593768 n_he=6336.83626563005 v=448.8965791519695 kT=12.771733445829254\n",
      "Step: n_h=121375.74559593768 n_he=6336.83626563005 v=448.8965791519695 kT=12.771733445829254\n",
      "Step: n_h=121061.17734415628 n_he=6476.7081808753865 v=449.84530434956065 kT=13.019790049415654\n",
      "Step: n_h=121348.98037206773 n_he=6507.06673146421 v=449.4342416099014 kT=12.769038769208496\n",
      "Step: n_h=120358.45569676408 n_he=6512.7767712003615 v=450.0365498993822 kT=12.914520478116911\n",
      "Step: n_h=120358.45569676408 n_he=6512.7767712003615 v=450.0365498993822 kT=12.914520478116911\n",
      "Step: n_h=120358.45569676408 n_he=6512.7767712003615 v=450.0365498993822 kT=12.914520478116911\n",
      "Step: n_h=120358.45569676408 n_he=6512.7767712003615 v=450.0365498993822 kT=12.914520478116911\n",
      "Step: n_h=120358.45569676408 n_he=6512.7767712003615 v=450.0365498993822 kT=12.914520478116911\n",
      "Step: n_h=120788.94694247325 n_he=6399.120387949369 v=449.87133223554395 kT=12.913399402393932\n",
      "Step: n_h=120788.94694247325 n_he=6399.120387949369 v=449.87133223554395 kT=12.913399402393932\n",
      "Step: n_h=119744.46376185026 n_he=6486.087213427561 v=449.53140154874245 kT=12.792377251617726\n",
      "Step: n_h=119744.46376185026 n_he=6486.087213427561 v=449.53140154874245 kT=12.792377251617726\n",
      "Step: n_h=120472.6613259438 n_he=6397.7823465794145 v=449.595419102891 kT=12.78008327965845\n",
      "Step: n_h=120472.6613259438 n_he=6397.7823465794145 v=449.595419102891 kT=12.78008327965845\n",
      "Step: n_h=120472.6613259438 n_he=6397.7823465794145 v=449.595419102891 kT=12.78008327965845\n",
      "Step: n_h=119137.98880548617 n_he=6448.200589994859 v=449.3303621384679 kT=12.718204248534594\n",
      "Step: n_h=119137.98880548617 n_he=6448.200589994859 v=449.3303621384679 kT=12.718204248534594\n",
      "Step: n_h=119239.19735192641 n_he=6376.257474504269 v=450.1380981913403 kT=12.798239507886812\n",
      "Step: n_h=119239.19735192641 n_he=6376.257474504269 v=450.1380981913403 kT=12.798239507886812\n",
      "Step: n_h=118122.17798521076 n_he=6485.619694309068 v=449.88298102212013 kT=12.699322622226967\n",
      "Step: n_h=118594.69885375322 n_he=6277.850547390033 v=449.16816653840715 kT=12.573144235290926\n",
      "Step: n_h=118376.1218530806 n_he=6280.208497028145 v=450.3579187728435 kT=12.606454607712571\n",
      "Step: n_h=117586.03959413868 n_he=6280.882920128647 v=450.27130394785047 kT=12.685469378920999\n",
      "Step: n_h=116030.88401078462 n_he=6240.9062951333835 v=449.48408132823533 kT=12.326814117339971\n",
      "Step: n_h=117171.69417066779 n_he=6054.304435531037 v=449.75775427154815 kT=12.396618547405266\n",
      "Step: n_h=115987.67096058262 n_he=6150.300526520572 v=450.7673626218316 kT=12.43453409039848\n",
      "Step: n_h=113329.97284596908 n_he=5984.378638928942 v=449.49453908141186 kT=12.169667885123395\n",
      "Step: n_h=113329.97284596908 n_he=5984.378638928942 v=449.49453908141186 kT=12.169667885123395\n",
      "Step: n_h=113060.78901124292 n_he=5610.471631414886 v=450.65700285237017 kT=12.080748113424832\n",
      "Step: n_h=107695.98982190795 n_he=5650.800747532468 v=450.7840934013609 kT=11.704236427808912\n",
      "Step: n_h=107695.98982190795 n_he=5650.800747532468 v=450.7840934013609 kT=11.704236427808912\n",
      "Step: n_h=107695.98982190795 n_he=5650.800747532468 v=450.7840934013609 kT=11.704236427808912\n",
      "Step: n_h=104652.62422463644 n_he=5070.306288335954 v=451.3001885755865 kT=11.371288091516263\n",
      "Step: n_h=94546.1939934676 n_he=4955.960120758371 v=450.36047507316925 kT=10.6178427216784\n",
      "Step: n_h=94546.1939934676 n_he=4955.960120758371 v=450.36047507316925 kT=10.6178427216784\n",
      "Step: n_h=89949.13217596116 n_he=4768.153650217708 v=452.01991343132454 kT=10.138001433268045\n",
      "Step: n_h=89949.13217596116 n_he=4768.153650217708 v=452.01991343132454 kT=10.138001433268045\n",
      "Step: n_h=89949.13217596116 n_he=4768.153650217708 v=452.01991343132454 kT=10.138001433268045\n",
      "Step: n_h=76498.98374396967 n_he=4154.02102508224 v=451.1265489600237 kT=8.951787022101652\n",
      "Step: n_h=76498.98374396967 n_he=4154.02102508224 v=451.1265489600237 kT=8.951787022101652\n",
      "Step: n_h=76498.98374396967 n_he=4154.02102508224 v=451.1265489600237 kT=8.951787022101652\n",
      "Step: n_h=76498.98374396967 n_he=4154.02102508224 v=451.1265489600237 kT=8.951787022101652\n",
      "Step: n_h=83996.32435385672 n_he=4439.48886588271 v=452.10800452497364 kT=9.623422114072024\n",
      "Step: n_h=76574.43084689282 n_he=4072.975528265875 v=452.5932594208515 kT=9.019142150601963\n",
      "Step: n_h=75619.66452033624 n_he=4057.640595366028 v=451.92309146535507 kT=8.714194955949434\n",
      "Step: n_h=79292.23943299541 n_he=4128.293588105077 v=452.09634829232795 kT=9.106064557968665\n",
      "Step: n_h=77684.82426624498 n_he=4164.310334743581 v=451.65336244295037 kT=9.033746483374836\n",
      "Step: n_h=77684.82426624498 n_he=4164.310334743581 v=451.65336244295037 kT=9.033746483374836\n",
      "Step: n_h=77684.82426624498 n_he=4164.310334743581 v=451.65336244295037 kT=9.033746483374836\n",
      "Step: n_h=77684.82426624498 n_he=4164.310334743581 v=451.65336244295037 kT=9.033746483374836\n",
      "Step: n_h=77863.79395414631 n_he=4096.792916764844 v=452.05072273901555 kT=9.010705232653459\n",
      "Step: n_h=77863.79395414631 n_he=4096.792916764844 v=452.05072273901555 kT=9.010705232653459\n",
      "Step: n_h=77863.79395414631 n_he=4096.792916764844 v=452.05072273901555 kT=9.010705232653459\n",
      "Step: n_h=77379.53737414765 n_he=4091.9320712195886 v=451.9503593055166 kT=9.004870459382815\n",
      "Step: n_h=77428.23219479398 n_he=4122.411531653313 v=451.7842630782671 kT=8.997881255427263\n",
      "Step: n_h=77426.11055694084 n_he=4097.35888034188 v=451.7931846693825 kT=8.983820982501674\n",
      "Step: n_h=76601.47521464911 n_he=4061.990121993069 v=451.96034272518136 kT=8.911800201075664\n",
      "Step: n_h=77536.31639463961 n_he=4095.1080340334033 v=451.96138009180123 kT=8.992649228625158\n",
      "Step: n_h=77536.31639463961 n_he=4095.1080340334033 v=451.96138009180123 kT=8.992649228625158\n",
      "Step: n_h=77041.04589232564 n_he=4070.4039526081906 v=451.92566850955325 kT=8.935987792274329\n",
      "Step: n_h=77249.97619196773 n_he=4089.179980349178 v=451.8524194976082 kT=8.96424081580174\n",
      "Step: n_h=77111.86661487982 n_he=4087.836367518602 v=451.8620893414177 kT=8.944687441938145\n",
      "Step: n_h=77111.86661487982 n_he=4087.836367518602 v=451.8620893414177 kT=8.944687441938145\n"
     ]
    },
    {
     "name": "stdout",
     "output_type": "stream",
     "text": [
      "Step: n_h=77387.45232257336 n_he=4090.663187631758 v=451.919513799167 kT=8.974837480433347\n",
      "Step: n_h=77387.45232257336 n_he=4090.663187631758 v=451.919513799167 kT=8.974837480433347\n",
      "Step: n_h=77580.08234009269 n_he=4104.877503130152 v=451.88686298561964 kT=8.9858593430041\n",
      "Step: n_h=77580.08234009269 n_he=4104.877503130152 v=451.88686298561964 kT=8.9858593430041\n",
      "Step: n_h=77242.49889064587 n_he=4096.077934207042 v=451.8916375978647 kT=8.961913079328397\n",
      "Step: n_h=77242.49889064587 n_he=4096.077934207042 v=451.8916375978647 kT=8.961913079328397\n",
      "Step: n_h=77242.49889064587 n_he=4096.077934207042 v=451.8916375978647 kT=8.961913079328397\n",
      "Step: n_h=77242.49889064587 n_he=4096.077934207042 v=451.8916375978647 kT=8.961913079328397\n",
      "Step: n_h=77242.49889064587 n_he=4096.077934207042 v=451.8916375978647 kT=8.961913079328397\n",
      "Step: n_h=77338.52134772416 n_he=4102.403123029708 v=451.90040467877776 kT=8.973315227110982\n",
      "Step: n_h=77338.52134772416 n_he=4102.403123029708 v=451.90040467877776 kT=8.973315227110982\n",
      "Step: n_h=77338.52134772416 n_he=4102.403123029708 v=451.90040467877776 kT=8.973315227110982\n",
      "Step: n_h=77338.52134772416 n_he=4102.403123029708 v=451.90040467877776 kT=8.973315227110982\n",
      "Step: n_h=77336.651531006 n_he=4099.9576046176935 v=451.89362369762654 kT=8.970186064824976\n",
      "Step: n_h=77442.2323065894 n_he=4103.316134977101 v=451.89605446575547 kT=8.979431859168368\n",
      "Step: n_h=77416.62484184121 n_he=4103.45259144194 v=451.89667041214886 kT=8.976567023965181\n",
      "Step: n_h=77349.83890131449 n_he=4100.944066501132 v=451.9025279476569 kT=8.972773002356153\n",
      "Step: n_h=77362.42912145596 n_he=4102.160361207087 v=451.89881190478735 kT=8.974027357344827\n",
      "Step: n_h=77362.42912145596 n_he=4102.160361207087 v=451.89881190478735 kT=8.974027357344827\n",
      "Step: n_h=77418.34164319548 n_he=4103.100066438063 v=451.89820459939534 kT=8.977788547116491\n",
      "Step: n_h=77405.75251099066 n_he=4103.124229044997 v=451.8987043459978 kT=8.976508819908812\n",
      "Step: n_h=77405.75251099066 n_he=4103.124229044997 v=451.8987043459978 kT=8.976508819908812\n",
      "Step: n_h=77431.25571972801 n_he=4104.2547868176 v=451.9007990414473 kT=8.979396886108045\n",
      "Step: n_h=77436.16150632317 n_he=4104.448804471923 v=451.89808339205706 kT=8.979463270372301\n",
      "Step: n_h=77392.65348325764 n_he=4102.946166450116 v=451.89887987475583 kT=8.976158369110621\n",
      "Step: n_h=77392.65348325764 n_he=4102.946166450116 v=451.89887987475583 kT=8.976158369110621\n",
      "Step: n_h=77431.56782714091 n_he=4104.844113301951 v=451.9001911719991 kT=8.979988005703373\n",
      "Step: n_h=77406.22067210998 n_he=4104.008218771524 v=451.8977925418256 kT=8.9773954993018\n",
      "Step: n_h=77406.22067210998 n_he=4104.008218771524 v=451.8977925418256 kT=8.9773954993018\n",
      "Step: n_h=77406.22067210998 n_he=4104.008218771524 v=451.8977925418256 kT=8.9773954993018\n",
      "Step: n_h=77406.22067210998 n_he=4104.008218771524 v=451.8977925418256 kT=8.9773954993018\n",
      "Step: n_h=77406.22067210998 n_he=4104.008218771524 v=451.8977925418256 kT=8.9773954993018\n",
      "Step: n_h=77413.73967640869 n_he=4104.302047292493 v=451.89628373853213 kT=8.978348808300217\n",
      "Step: n_h=77413.73967640869 n_he=4104.302047292493 v=451.89628373853213 kT=8.978348808300217\n",
      "Step: n_h=77413.73967640869 n_he=4104.302047292493 v=451.89628373853213 kT=8.978348808300217\n",
      "Step: n_h=77413.73967640869 n_he=4104.302047292493 v=451.89628373853213 kT=8.978348808300217\n",
      "Step: n_h=77413.73967640869 n_he=4104.302047292493 v=451.89628373853213 kT=8.978348808300217\n",
      "Step: n_h=77429.62444172736 n_he=4105.161928970949 v=451.8956337692362 kT=8.979546308065032\n",
      "Step: n_h=77429.62444172736 n_he=4105.161928970949 v=451.8956337692362 kT=8.979546308065032\n",
      "Step: n_h=77422.66254251832 n_he=4104.922551313124 v=451.8970484213873 kT=8.979119099724908\n",
      "Step: n_h=77422.66254251832 n_he=4104.922551313124 v=451.8970484213873 kT=8.979119099724908\n",
      "Step: n_h=77420.15956617543 n_he=4104.640260742967 v=451.896483917985 kT=8.978892356479426\n",
      "Step: n_h=77426.45064139285 n_he=4104.95955912283 v=451.89677477418934 kT=8.97949678425304\n",
      "Step: n_h=77426.67818034827 n_he=4104.994841466306 v=451.8962379701302 kT=8.979374031323998\n",
      "Step: n_h=77426.67818034827 n_he=4104.994841466306 v=451.8962379701302 kT=8.979374031323998\n",
      "Step: n_h=77426.67818034827 n_he=4104.994841466306 v=451.8962379701302 kT=8.979374031323998\n",
      "Step: n_h=77430.13607498555 n_he=4105.251800469229 v=451.8960306375404 kT=8.979781062972906\n",
      "Step: n_h=77424.71112194865 n_he=4104.9932259822845 v=451.89621158281545 kT=8.979319371990773\n",
      "Step: n_h=77426.06796291121 n_he=4104.9548084702665 v=451.8960595682946 kT=8.979413238973303\n",
      "Step: n_h=77426.67448822064 n_he=4105.0041141099255 v=451.8964548569422 kT=8.979484355284143\n",
      "Step: n_h=77426.67448822064 n_he=4105.0041141099255 v=451.8964548569422 kT=8.979484355284143\n",
      "Step: n_h=77428.09820865064 n_he=4105.122783100189 v=451.8961327654972 kT=8.979597248431809\n",
      "Step: n_h=77428.09820865064 n_he=4105.122783100189 v=451.8961327654972 kT=8.979597248431809\n",
      "Step: n_h=77426.45518283357 n_he=4104.99734199372 v=451.89615660591903 kT=8.97944655830246\n",
      "Step: n_h=77426.74497603686 n_he=4105.038766456551 v=451.89625232249114 kT=8.979505102660537\n",
      "Step: n_h=77426.7256797967 n_he=4105.0231298108265 v=451.89632181345576 kT=8.979485933503407\n",
      "Step: n_h=77426.7256797967 n_he=4105.0231298108265 v=451.89632181345576 kT=8.979485933503407\n",
      "Step: n_h=77427.56519736983 n_he=4105.078961355755 v=451.89618502144583 kT=8.97955535901836\n",
      "Step: n_h=77427.56519736983 n_he=4105.078961355755 v=451.89618502144583 kT=8.97955535901836\n",
      "Step: n_h=77427.56519736983 n_he=4105.078961355755 v=451.89618502144583 kT=8.97955535901836\n",
      "Step: n_h=77427.41421915953 n_he=4105.0519069294205 v=451.89622501452766 kT=8.979534217305257\n",
      "Step: n_h=77427.04447637801 n_he=4105.038925431136 v=451.89626586545296 kT=8.979511258438777\n",
      "Step: n_h=77427.14310963129 n_he=4105.0421424131555 v=451.8962133770058 kT=8.97951730425811\n",
      "Step: n_h=77427.14310963129 n_he=4105.0421424131555 v=451.8962133770058 kT=8.97951730425811\n",
      "Step: n_h=77427.35685711098 n_he=4105.061651945454 v=451.8962074802196 kT=8.979535017807004\n",
      "Step: n_h=77427.35685711098 n_he=4105.061651945454 v=451.8962074802196 kT=8.979535017807004\n",
      "Step: n_h=77427.35685711098 n_he=4105.061651945454 v=451.8962074802196 kT=8.979535017807004\n",
      "Step: n_h=77427.35685711098 n_he=4105.061651945454 v=451.8962074802196 kT=8.979535017807004\n",
      "Step: n_h=77427.0905864693 n_he=4105.043632608517 v=451.8962415988592 kT=8.979513636664786\n",
      "Step: n_h=77427.0905864693 n_he=4105.043632608517 v=451.8962415988592 kT=8.979513636664786\n",
      "Step: n_h=77427.0905864693 n_he=4105.043632608517 v=451.8962415988592 kT=8.979513636664786\n",
      "Step: n_h=77427.1346368776 n_he=4105.0481681303045 v=451.8962217069495 kT=8.979514373266793\n",
      "Step: n_h=77427.24567773992 n_he=4105.051688587975 v=451.8962203518923 kT=8.979524263335964\n",
      "Step: n_h=77427.25395840393 n_he=4105.0544405603205 v=451.89621655761835 kT=8.979526068202606\n",
      "Step: n_h=77427.25395840393 n_he=4105.0544405603205 v=451.89621655761835 kT=8.979526068202606\n",
      "Step: n_h=77427.25395840393 n_he=4105.0544405603205 v=451.89621655761835 kT=8.979526068202606\n",
      "Step: n_h=77427.25395840393 n_he=4105.0544405603205 v=451.89621655761835 kT=8.979526068202606\n",
      "Step: n_h=77427.23444404264 n_he=4105.052954768227 v=451.8962277769506 kT=8.979523894217069\n",
      "Step: n_h=77427.22829749265 n_he=4105.053688435837 v=451.89623201785463 kT=8.979525189753282\n",
      "Step: n_h=77427.17305060236 n_he=4105.050548254856 v=451.89622645563895 kT=8.979519265615451\n",
      "Step: n_h=77427.18782575167 n_he=4105.050351832548 v=451.89622886583214 kT=8.979520691040694\n",
      "Step: n_h=77427.18782575167 n_he=4105.050351832548 v=451.89622886583214 kT=8.979520691040694\n",
      "Step: n_h=77427.17510859977 n_he=4105.0509210891905 v=451.8962272268841 kT=8.97952076107745\n",
      "Step: n_h=77427.20988829531 n_he=4105.052467263942 v=451.89622916101473 kT=8.979523205115793\n",
      "Step: n_h=77427.2283264401 n_he=4105.0529034337815 v=451.89622750539843 kT=8.979525145091323\n",
      "Step: n_h=77427.2283264401 n_he=4105.0529034337815 v=451.89622750539843 kT=8.979525145091323\n",
      "Step: n_h=77427.2283264401 n_he=4105.0529034337815 v=451.89622750539843 kT=8.979525145091323\n",
      "Step: n_h=77427.19751863535 n_he=4105.051933398468 v=451.89622709979506 kT=8.97952252752365\n",
      "Step: n_h=77427.21955063741 n_he=4105.053214560565 v=451.89622654708296 kT=8.979524532284815\n",
      "Step: n_h=77427.21955063741 n_he=4105.053214560565 v=451.89622654708296 kT=8.979524532284815\n",
      "Step: n_h=77427.2147925517 n_he=4105.052530143479 v=451.896226346463 kT=8.979523622001821\n",
      "Step: n_h=77427.2147925517 n_he=4105.052530143479 v=451.896226346463 kT=8.979523622001821\n",
      "Step: n_h=77427.2147925517 n_he=4105.052530143479 v=451.896226346463 kT=8.979523622001821\n",
      "Step: n_h=77427.21667080077 n_he=4105.052785784594 v=451.8962262438256 kT=8.979524144571045\n",
      "Step: n_h=77427.21667080077 n_he=4105.052785784594 v=451.8962262438256 kT=8.979524144571045\n",
      "Step: n_h=77427.21667080077 n_he=4105.052785784594 v=451.8962262438256 kT=8.979524144571045\n",
      "Step: n_h=77427.21667080077 n_he=4105.052785784594 v=451.8962262438256 kT=8.979524144571045\n",
      "Step: n_h=77427.21834395503 n_he=4105.052934760805 v=451.8962258128959 kT=8.979524205635759\n",
      "Step: n_h=77427.21834395503 n_he=4105.052934760805 v=451.8962258128959 kT=8.979524205635759\n",
      "Step: n_h=77427.21834395503 n_he=4105.052934760805 v=451.8962258128959 kT=8.979524205635759\n",
      "Step: n_h=77427.21834395503 n_he=4105.052934760805 v=451.8962258128959 kT=8.979524205635759\n",
      "Step: n_h=77427.21834395503 n_he=4105.052934760805 v=451.8962258128959 kT=8.979524205635759\n",
      "Step: n_h=77427.21834395503 n_he=4105.052934760805 v=451.8962258128959 kT=8.979524205635759\n",
      "Step: n_h=77427.21396374819 n_he=4105.052748888619 v=451.89622600858024 kT=8.979523894529835\n",
      "Step: n_h=77427.21396374819 n_he=4105.052748888619 v=451.89622600858024 kT=8.979523894529835\n",
      "Step: n_h=77427.21396374819 n_he=4105.052748888619 v=451.89622600858024 kT=8.979523894529835\n",
      "Step: n_h=77427.21396374819 n_he=4105.052748888619 v=451.89622600858024 kT=8.979523894529835\n",
      "Step: n_h=77427.21396374819 n_he=4105.052748888619 v=451.89622600858024 kT=8.979523894529835\n",
      "Step: n_h=77427.21396374819 n_he=4105.052748888619 v=451.89622600858024 kT=8.979523894529835\n",
      "Step: n_h=77427.21396374819 n_he=4105.052748888619 v=451.89622600858024 kT=8.979523894529835\n",
      "Step: n_h=77427.21396374819 n_he=4105.052748888619 v=451.89622600858024 kT=8.979523894529835\n",
      "Step: n_h=77427.21396374819 n_he=4105.052748888619 v=451.89622600858024 kT=8.979523894529835\n",
      "Step: n_h=77427.21396374819 n_he=4105.052748888619 v=451.89622600858024 kT=8.979523894529835\n",
      "Step: n_h=77427.21409525463 n_he=4105.052758378015 v=451.89622601115127 kT=8.979523910878761\n",
      "Step: n_h=77427.21409525463 n_he=4105.052758378015 v=451.89622601115127 kT=8.979523910878761\n",
      "Optimization terminated successfully.\n",
      "         Current function value: 10.193110\n"
     ]
    },
    {
     "name": "stdout",
     "output_type": "stream",
     "text": [
      "         Iterations: 217\n",
      "         Function evaluations: 405\n",
      "[  7.74272141e+04   4.10505276e+03   4.51896226e+02   8.97952391e+00]\n"
     ]
    },
    {
     "data": {
      "image/png": "[encoded data removed]",
      "text/plain": [
       "<matplotlib.figure.Figure at 0x28cc4f6e358>"
      ]
     },
     "metadata": {},
     "output_type": "display_data"
    }
   ],
   "source": [
    "# Function to calculate a spectrum given the parameters in the matrix p\n",
    "def spec(p):\n",
    "    tmpfun = lambda E: (todef(dist_mb(1.007825032241, 1.0, p[0], p[2],0.0,0.0, p[3], E, 0.0, 0.0),E,1.007825032241,1.0) +\n",
    "         todef(dist_mb(4.00260325415, 2.0, p[1], p[2],0.0,0.0, p[3], E, 0.0, 0.0),E,4.00260325415,2.0))*G*quantumeff(E)+10.0\n",
    "\n",
    "    for i in range(num_energy_bins):\n",
    "        f[i] = underresolve(tmpfun, energy_table_lower[i], energy_table_upper[i], energy_table_centre[i], energy_resolution)\n",
    "\n",
    "\n",
    "    return f*4/64\n",
    "\n",
    "# Calculate the cost function.\n",
    "def fitfun(p):\n",
    "    return np.sqrt(np.sum((spec(p)-C)**2))\n",
    "\n",
    "# Perform the fit. Notice this is iterative.\n",
    "p = scipy.optimize.fmin(fitfun, [1e5,1e4,400,10], disp=True, callback=lambda p: print('Step: n_h={} n_he={} v={} kT={}'.format(p[0],p[1],p[2],p[3])))\n",
    "\n",
    "plt.errorbar(E,C,yerr=np.sqrt(C),fmt='o')\n",
    "#plt.loglog(E,f*taua)\n",
    "plt.loglog(E,spec(p))\n",
    "\n",
    "print(p)"
   ]
  },
  {
   "cell_type": "markdown",
   "metadata": {},
   "source": [
    "## Explore the chi-square space in the dimension of velocity and temperature"
   ]
  },
  {
   "cell_type": "code",
   "execution_count": 22,
   "metadata": {},
   "outputs": [
    {
     "name": "stdout",
     "output_type": "stream",
     "text": [
      "1/40\n",
      "2/40\n",
      "3/40\n",
      "4/40\n",
      "5/40\n",
      "6/40\n",
      "7/40\n",
      "8/40\n",
      "9/40\n",
      "10/40\n",
      "11/40\n",
      "12/40\n",
      "13/40\n",
      "14/40\n",
      "15/40\n",
      "16/40\n",
      "17/40\n",
      "18/40\n",
      "19/40\n",
      "20/40\n",
      "21/40\n",
      "22/40\n",
      "23/40\n",
      "24/40\n",
      "25/40\n",
      "26/40\n",
      "27/40\n",
      "28/40\n",
      "29/40\n",
      "30/40\n",
      "31/40\n",
      "32/40\n",
      "33/40\n",
      "34/40\n",
      "35/40\n",
      "36/40\n",
      "37/40\n",
      "38/40\n",
      "39/40\n",
      "40/40\n"
     ]
    },
    {
     "data": {
      "text/plain": [
       "<matplotlib.colorbar.Colorbar at 0x28cc5282e10>"
      ]
     },
     "execution_count": 22,
     "metadata": {},
     "output_type": "execute_result"
    },
    {
     "data": {
      "image/png": "[encoded data removed]",
      "text/plain": [
       "<matplotlib.figure.Figure at 0x28cc4eec780>"
      ]
     },
     "metadata": {},
     "output_type": "display_data"
    }
   ],
   "source": [
    "x = np.linspace(250,650,80)\n",
    "y = np.linspace(2,42,40)\n",
    "rms = np.zeros((80,40))\n",
    "for iy in range(40):\n",
    "    print('{}/{}'.format(iy+1,40))\n",
    "    for ix in range(80):\n",
    "        rms[ix,iy] = fitfun([p[0],p[1],x[ix],y[iy]])\n",
    "plt.pcolor(x,y,np.log10(rms.T))\n",
    "plt.colorbar()"
   ]
  }
 ],
 "metadata": {
  "kernelspec": {
   "display_name": "Python 3",
   "language": "python",
   "name": "python3"
  },
  "language_info": {
   "codemirror_mode": {
    "name": "ipython",
    "version": 3
   },
   "file_extension": ".py",
   "mimetype": "text/x-python",
   "name": "python",
   "nbconvert_exporter": "python",
   "pygments_lexer": "ipython3",
   "version": "3.6.3"
  }
 },
 "nbformat": 4,
 "nbformat_minor": 2
}
